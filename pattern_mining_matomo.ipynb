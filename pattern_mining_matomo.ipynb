{
 "cells": [
  {
   "cell_type": "code",
   "execution_count": 1,
   "metadata": {},
   "outputs": [],
   "source": [
    "import requests\n",
    "import json\n",
    "import matplotlib.pyplot as plt\n",
    "import seaborn as sns\n",
    "import pandas as pd\n",
    "from sequence_mining.spam import SpamAlgo"
   ]
  },
  {
   "cell_type": "code",
   "execution_count": 2,
   "metadata": {},
   "outputs": [],
   "source": [
    "# https://developer.matomo.org/api-reference\n",
    "res = requests.post(\n",
    "    \"https://demo.matomo.cloud\",\n",
    "    params={\n",
    "        \"module\": \"API\",\n",
    "        \"method\": \"Live.getLastVisitsDetails\",\n",
    "        \"format\": \"json\",\n",
    "        \"idSite\": \"1\",\n",
    "        \"period\": \"day\",\n",
    "        \"date\": \"today\",\n",
    "        \"filter_limit\": \"2000\", # take the logs of 2000 visits.\n",
    "    }\n",
    ")"
   ]
  },
  {
   "cell_type": "code",
   "execution_count": 3,
   "metadata": {},
   "outputs": [],
   "source": [
    "data = json.loads(res.content)"
   ]
  },
  {
   "cell_type": "code",
   "execution_count": 4,
   "metadata": {},
   "outputs": [],
   "source": [
    "def filter_dict(dict_, keys):\n",
    "    return {k: dict_[k] for k in keys if k in dict_}"
   ]
  },
  {
   "cell_type": "code",
   "execution_count": 5,
   "metadata": {},
   "outputs": [],
   "source": [
    "def classify_action(url):\n",
    "    types = [\n",
    "        \"jobs\", \"products\", \"cart\", \"checkout\", \"faq\", \"diving\", \"best-dive-sites\", \n",
    "        \"best-of-the-best\", \"my-account\", \"liveaboard\", \"divesite\", \"blog\", \"resumes\",\n",
    "        \"forum\", \"travel\", \"guides\", \"buying-guide\"]\n",
    "    for type_ in types:\n",
    "        if type_ in url:\n",
    "            e = {\"type\": \"action\", \"details\": type_, \"e\": \"action__\"+type_}\n",
    "            break\n",
    "        elif url == \"https://dive-shop.net/\":\n",
    "            e = {\"type\": \"action\", \"details\": \"shop-home\", \"e\": \"action__shop-home\"}\n",
    "            break\n",
    "        elif url == \"https://divezone.net/\":\n",
    "            e = {\"type\": \"action\", \"details\": \"zone-home\", \"e\": \"action__zone-home\"}\n",
    "            break\n",
    "    else:\n",
    "        # print(url)\n",
    "        e = {\"type\": \"action\", \"details\": \"other\", \"e\": \"action__other\"}\n",
    "\n",
    "    return e"
   ]
  },
  {
   "cell_type": "code",
   "execution_count": 6,
   "metadata": {},
   "outputs": [],
   "source": [
    "d = []\n",
    "ol_urls = []\n",
    "action_urls = []\n",
    "\n",
    "for visit in data:\n",
    "    actions = visit['actionDetails']\n",
    "\n",
    "    events = []\n",
    "    faulty_visit = False\n",
    "\n",
    "    for action in actions:\n",
    "        if action['type'] == 'action':\n",
    "            \n",
    "            e = classify_action(action[\"url\"])\n",
    "            events.append(e)\n",
    "            if action[\"title\"] not in action_urls:\n",
    "                action_urls.append(action[\"url\"])\n",
    "            \n",
    "        elif action[\"type\"] == \"outlink\":\n",
    "            \n",
    "            e = filter_dict(action, [\"type\", \"url\"])\n",
    "            e[\"e\"] = e[\"type\"]\n",
    "            events.append(e)\n",
    "            \n",
    "            if action[\"url\"] not in ol_urls:\n",
    "                ol_urls.append(action[\"url\"])\n",
    "        elif action[\"type\"] == \"search\":\n",
    "            e = filter_dict(action, [\"type\", \"searchKeyword\"])\n",
    "            e[\"e\"] = e[\"type\"] + \"__\" + e.get(\"searchKeyword\", \"\")\n",
    "            events.append(e)\n",
    "        elif action[\"type\"] == \"form\":\n",
    "            e = filter_dict(action, [\"type\", \"formName\"])\n",
    "            e[\"e\"] = e[\"type\"] + \"__\" + e[\"formName\"]\n",
    "            events.append(e)\n",
    "        elif action[\"type\"] == \"event\":\n",
    "            e = filter_dict(action, [\"type\", \"eventAction\"])\n",
    "            e[\"e\"] = e[\"type\"] + \"__\" + e[\"eventAction\"]\n",
    "            events.append(e)\n",
    "        elif action[\"type\"] == \"ecommerceAbandonedCart\":\n",
    "            e = filter_dict(action, [\"type\"])\n",
    "            e[\"e\"] = e[\"type\"]\n",
    "            events.append(e)\n",
    "        elif action[\"type\"] == \"goal\":\n",
    "            e = filter_dict(action, [\"type\", \"goalName\"])\n",
    "            e[\"e\"] = e[\"type\"] + \"__\" + e[\"goalName\"]\n",
    "            events.append(e)\n",
    "        elif action[\"type\"] == \"ecommerceOrder\":\n",
    "            e = filter_dict(action, [\"type\"])\n",
    "            e[\"e\"] = e[\"type\"]\n",
    "            events.append(e)\n",
    "        else:\n",
    "            # print(action[\"type\"])\n",
    "            faulty_visit = True\n",
    "\n",
    "    if not faulty_visit:\n",
    "        if events != []:\n",
    "            d.append(events)"
   ]
  },
  {
   "cell_type": "code",
   "execution_count": 7,
   "metadata": {},
   "outputs": [],
   "source": [
    "example = ['https://divezone.net/diving/maldives',\n",
    " 'https://divezone.net/diving/florida',\n",
    " 'https://divezone.net/diving/red-sea',\n",
    " 'https://dive-shop.net/products/diving-accessory-starter-kit/',\n",
    " 'https://dive-shop.net/products/distance-line-reel/']"
   ]
  },
  {
   "cell_type": "code",
   "execution_count": 8,
   "metadata": {},
   "outputs": [],
   "source": [
    "example_transf = [classify_action(x) for x in example]"
   ]
  },
  {
   "cell_type": "code",
   "execution_count": 9,
   "metadata": {},
   "outputs": [],
   "source": [
    "# get the longest sequence in case of padding\n",
    "longest_seq = max([len([j[\"e\"] for j in i]) for i in d])"
   ]
  },
  {
   "cell_type": "code",
   "execution_count": 10,
   "metadata": {},
   "outputs": [],
   "source": [
    "sequences = []\n",
    "type_to_id = {}\n",
    "id_to_type = {}\n",
    "i = 0\n",
    "\n",
    "for visit in d:\n",
    "    events = [j[\"e\"] for j in visit]\n",
    "\n",
    "    for event in events:\n",
    "        if event not in type_to_id:\n",
    "            type_to_id[event] = i\n",
    "            id_to_type[i] = event\n",
    "            i += 1\n",
    "    events_id = [[type_to_id[event]] for event in events]\n",
    "    if len(events) > 5:\n",
    "        sequences.append(events_id)"
   ]
  },
  {
   "cell_type": "code",
   "execution_count": 15,
   "metadata": {},
   "outputs": [
    {
     "name": "stdout",
     "output_type": "stream",
     "text": [
      "Min support 25\n"
     ]
    }
   ],
   "source": [
    "algo = SpamAlgo(0.1)\n",
    "# sometimes the library seems to be a bit buggy, so in that case you need to try and remove the last sequences\n",
    "# so if algo.spam(sequences) doesnt work you can try algo.spam(sequences[:-1]) or algo.spam(sequences[:-2]), ...\n",
    "\n",
    "algo.spam(sequences[:-1]) \n",
    "\n",
    "frequent_items = algo.frequent_items"
   ]
  },
  {
   "cell_type": "code",
   "execution_count": 12,
   "metadata": {},
   "outputs": [],
   "source": [
    "frequent_items_types = []\n",
    "for i in frequent_items:\n",
    "    s = []\n",
    "    for j in i:\n",
    "        id_ = j if isinstance(j, int) else j[0]\n",
    "        s.append(id_to_type[id_])\n",
    "    frequent_items_types.append(s)\n",
    "        "
   ]
  },
  {
   "cell_type": "code",
   "execution_count": null,
   "metadata": {},
   "outputs": [],
   "source": [
    "interaction_lengths = [len(data[i][\"actionDetails\"]) for i in range(len(data))]\n",
    "fig, ax = plt.subplots(figsize=(10, 5))\n",
    "\n",
    "sns.histplot(interaction_lengths, bins=100)\n",
    "# plt.title('Distribution of interaction lengths')\n",
    "plt.xlabel('Interaction length')\n",
    "plt.ylabel('Frequency')\n",
    "# plt.grid()\n",
    "#Distribution of interaction lengths"
   ]
  }
 ],
 "metadata": {
  "kernelspec": {
   "display_name": "Python 3",
   "language": "python",
   "name": "python3"
  },
  "language_info": {
   "codemirror_mode": {
    "name": "ipython",
    "version": 3
   },
   "file_extension": ".py",
   "mimetype": "text/x-python",
   "name": "python",
   "nbconvert_exporter": "python",
   "pygments_lexer": "ipython3",
   "version": "3.11.4"
  },
  "orig_nbformat": 4
 },
 "nbformat": 4,
 "nbformat_minor": 2
}
