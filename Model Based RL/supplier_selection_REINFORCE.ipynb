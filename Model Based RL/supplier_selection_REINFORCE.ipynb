{
 "cells": [
  {
   "cell_type": "code",
   "execution_count": 1,
   "metadata": {},
   "outputs": [],
   "source": [
    "import torch\n",
    "import torch.nn as nn\n",
    "import torch.nn.functional as F\n",
    "from environments import DS_DA, CS_DA_deterministic\n",
    "from collections import deque, namedtuple\n",
    "import random\n",
    "from torch import optim\n",
    "import matplotlib.pyplot as plt\n",
    "import numpy as np\n",
    "from torch.distributions import Categorical\n"
   ]
  },
  {
   "cell_type": "code",
   "execution_count": 2,
   "metadata": {},
   "outputs": [],
   "source": [
    "device = torch.device(\"cuda\" if torch.cuda.is_available() else \"cpu\")"
   ]
  },
  {
   "cell_type": "code",
   "execution_count": 3,
   "metadata": {},
   "outputs": [],
   "source": [
    "class Policy(nn.Module):\n",
    "\n",
    "    def __init__(self, n_obs, n_actions):\n",
    "        super(Policy, self).__init__()\n",
    "        self.layer1 = nn.Linear(n_obs, 16)\n",
    "        self.layer2 = nn.Linear(16, 64)\n",
    "        self.layer3 = nn.Linear(64, n_actions)\n",
    "\n",
    "    def forward(self, x):\n",
    "        x = F.relu(self.layer1(x))\n",
    "        x = F.relu(self.layer2(x))\n",
    "        return F.softmax(self.layer3(x)/100)\n",
    "\n",
    "    def select_action(self, state):\n",
    "        state = torch.from_numpy(state).float().unsqueeze(0).to(device)\n",
    "        probs = self.forward(state).cpu()\n",
    "        m = Categorical(probs)\n",
    "        \n",
    "        action = m.sample()\n",
    "        # action = np.argmax(m)\n",
    "        print(m.probs)\n",
    "        return action.item(), m.log_prob(action)"
   ]
  },
  {
   "cell_type": "code",
   "execution_count": 4,
   "metadata": {},
   "outputs": [],
   "source": [
    "N_EPISODES = 100\n",
    "ALPHA = 0.1\n",
    "GAMMA = 0.95\n",
    "K = 10\n",
    "\n",
    "Transition = namedtuple('Transition',('s', 'a', 's_prime', 'r', 't', \"log_prob_a\"))"
   ]
  },
  {
   "cell_type": "code",
   "execution_count": 5,
   "metadata": {},
   "outputs": [],
   "source": [
    "class ReplayBUffer(object):\n",
    "\n",
    "    def __init__(self, capacity):\n",
    "        self.memory = deque([], maxlen=capacity)\n",
    "\n",
    "    def push(self, *args):\n",
    "        \"\"\"Save a transition\"\"\"\n",
    "        self.memory.append(Transition(*args))\n",
    "\n",
    "    def sample(self, batch_size):\n",
    "        return random.sample(self.memory, batch_size)\n",
    "\n",
    "    def __len__(self):\n",
    "        return len(self.memory)\n",
    "\n",
    "\n",
    "def discount_rewards(rewards, gamma=0.95):\n",
    "    r = np.array([gamma**i * rewards[i] \n",
    "        for i in range(len(rewards))])\n",
    "    # Reverse the array direction for cumsum and then\n",
    "    # revert back to the original order\n",
    "    r = r[::-1].cumsum()[::-1]\n",
    "    return r\n",
    "# rb = ReplayBUffer(10_000)"
   ]
  },
  {
   "cell_type": "code",
   "execution_count": null,
   "metadata": {},
   "outputs": [],
   "source": [
    "pi = Policy(4,3)\n",
    "optimizer = optim.Adam(pi.parameters(), lr=1e-2)\n",
    "\n",
    "for episode in range(1000):\n",
    "    env = CS_DA_deterministic(lim=5)\n",
    "    done = False\n",
    "    s = env.state\n",
    "\n",
    "    trajectory = deque([], maxlen=10)\n",
    "    log_probs = []\n",
    "    # sample one episode\n",
    "    t=0\n",
    "    while not done:\n",
    "        a, log_prob_a = pi.select_action(s)\n",
    "        s_prime, r, done = env.step(a)\n",
    "        trajectory.append(Transition(s=s,a=a,s_prime=s_prime,r=r,t=t, log_prob_a=log_prob_a))\n",
    "        s = s_prime\n",
    "        t+= 1\n",
    "        log_probs.append(log_prob_a)\n",
    "\n",
    "    rewards = Transition(*zip(*trajectory)).r\n",
    "    discounted_rewards = discount_rewards(rewards)\n",
    "    eps = np.finfo(np.float32).eps.item()\n",
    "    returns = torch.tensor(discounted_rewards.copy())\n",
    "    returns = (returns - returns.mean()) / (returns.std() + eps)\n",
    "    print(rewards)\n",
    "    policy_loss = []\n",
    "    for log_prob, disc_return in zip(log_probs, returns):\n",
    "        policy_loss.append(-log_prob * disc_return)\n",
    "    policy_loss = torch.cat(policy_loss).sum()\n",
    "\n",
    "    optimizer.zero_grad()\n",
    "    policy_loss.backward()\n",
    "    optimizer.step()\n",
    "    print(Transition(*zip(*trajectory)).a)"
   ]
  },
  {
   "cell_type": "code",
   "execution_count": null,
   "metadata": {},
   "outputs": [],
   "source": []
  }
 ],
 "metadata": {
  "kernelspec": {
   "display_name": "Python 3",
   "language": "python",
   "name": "python3"
  },
  "language_info": {
   "codemirror_mode": {
    "name": "ipython",
    "version": 3
   },
   "file_extension": ".py",
   "mimetype": "text/x-python",
   "name": "python",
   "nbconvert_exporter": "python",
   "pygments_lexer": "ipython3",
   "version": "3.9.16"
  },
  "orig_nbformat": 4,
  "vscode": {
   "interpreter": {
    "hash": "2352cd234a6c0ecfb6dc2604fce7c909418c46b4c74c0de4bd6d7f449f87399a"
   }
  }
 },
 "nbformat": 4,
 "nbformat_minor": 2
}
