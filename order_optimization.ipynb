{
  "cells": [
    {
      "cell_type": "code",
      "execution_count": 2,
      "metadata": {
        "id": "eTNQEv3E8g3r"
      },
      "outputs": [],
      "source": [
        "import tensorflow as tf\n",
        "from tf_agents.utils import common\n",
        "from tf_agents.specs import tensor_spec\n",
        "import numpy as np\n",
        "from tf_agents.replay_buffers import reverb_replay_buffer\n",
        "from tf_agents.replay_buffers import reverb_utils\n",
        "from tf_agents.metrics import tf_metrics\n",
        "from tf_agents.specs import BoundedArraySpec, ArraySpec\n",
        "from tf_agents.environments import py_environment, tf_py_environment\n",
        "from tf_agents.trajectories import time_step as ts\n",
        "from tf_agents.environments import suite_gym\n",
        "import tf_agents\n",
        "from tf_agents import drivers\n",
        "from tf_agents.environments import wrappers\n",
        "from tf_agents.networks.q_network import QNetwork\n",
        "from tf_agents.environments import utils\n",
        "from tf_agents.agents.dqn import dqn_agent\n",
        "from tf_agents.replay_buffers import tf_uniform_replay_buffer"
      ]
    },
    {
      "cell_type": "markdown",
      "metadata": {},
      "source": [
        "A simple environemnt with a company that has a Stock S. every time step, there is demand D. The company can choose to buy products in the range from 0 to 10000\n",
        "\n",
        "- $Stock_t = Stock_{t-1} - Demand_t + Order_t  \\in \\mathbb{R}$\n",
        "- $Demand_t \\sim \\mathcal{N}(2000,200^2)$\n",
        "- $Order_t \\in [0,10000]$\n",
        "\n",
        "The goal of the environment is to keep the stock as close to zero as possible."
      ]
    },
    {
      "cell_type": "code",
      "execution_count": 27,
      "metadata": {
        "id": "w6qvAXac8g3v"
      },
      "outputs": [],
      "source": [
        "class Env(py_environment.PyEnvironment):\n",
        "\n",
        "    def __init__(self) -> None:\n",
        "        self._action_spec = BoundedArraySpec(shape=(1,), minimum=0, maximum=10_000, dtype=np.float64, name=\"action\")\n",
        "        self._observation_spec = ArraySpec(shape=(1,), dtype=np.float64, name=\"state\")\n",
        "        # self._reward_spec = BoundedArraySpec(shape=(1,), dtype=np.float64, minimum=-np.inf, maximum=0, name=\"reward\")\n",
        "        # self._discount_spec = BoundedArraySpec(shape=(1,), dtype=np.float32, name=\"discount\")\n",
        "        self._state = np.array([0], dtype=np.float64)\n",
        "        self._episode_ended = False\n",
        "        \n",
        "        self._current_time_step = 0\n",
        "        self._steps_done = 0\n",
        "\n",
        "        self.storage_cost = 3\n",
        "        self.backlog_cost = 2\n",
        "\n",
        "\n",
        "    def action_spec(self):\n",
        "        return self._action_spec\n",
        "\n",
        "    def observation_spec(self):\n",
        "        return self._observation_spec\n",
        "\n",
        "    def _reset(self):\n",
        "        self._state = np.array([0], dtype=np.float64)\n",
        "        self._episode_ended = False\n",
        "        self._current_time_step = 0\n",
        "        self._steps_done = 0\n",
        "        return ts.restart(np.array(self._state, dtype=np.float64))\n",
        "\n",
        "    def _step(self, action):\n",
        "\n",
        "        if self._episode_ended:\n",
        "            return self.reset()\n",
        "\n",
        "        self._steps_done += 1\n",
        "\n",
        "        if self._steps_done  == 100:\n",
        "            self._episode_ended = True\n",
        "\n",
        "\n",
        "\n",
        "        # action is an array.\n",
        "        new_state = self._state[0] - np.random.normal(2000, 200) + action[0]\n",
        "\n",
        "\n",
        "\n",
        "        reward = (self._state - np.abs(new_state))[0]\n",
        "        \n",
        "        \n",
        "        # reward = 1/(np.abs(new_state)+0.00001)\n",
        "        \n",
        "        \n",
        "        # reward = - np.abs(new_state)\n",
        "        # print(reward, reward_)\n",
        "\n",
        "\n",
        "        self._state = np.array([new_state], dtype=np.float64)\n",
        "\n",
        "        # if new_state > 0:\n",
        "        #     reward = - new_state * self.storage_cost\n",
        "        # else:\n",
        "        #     reward = new_state * self.backlog_cost\n",
        "        \n",
        "\n",
        "        if self._episode_ended:\n",
        "            return ts.termination(self._state, reward=reward)\n",
        "        else:\n",
        "            return ts.transition(self._state, reward=reward, discount=0.9)"
      ]
    },
    {
      "cell_type": "code",
      "execution_count": 28,
      "metadata": {
        "id": "l5-R_pb-8g3w"
      },
      "outputs": [],
      "source": [
        "env = Env()\n",
        "discretized_env = wrappers.ActionDiscretizeWrapper(env, num_actions=11)\n",
        "tf_env = tf_py_environment.TFPyEnvironment(discretized_env)"
      ]
    },
    {
      "cell_type": "code",
      "execution_count": 29,
      "metadata": {
        "id": "bI39MhFdDPP-"
      },
      "outputs": [],
      "source": [
        "q_net = QNetwork(\n",
        "    tf_env.observation_spec(),\n",
        "    tf_env.action_spec(),\n",
        "    batch_squash=True\n",
        "    # preprocessing_layers=tf.keras.layers.Lambda(lambda x: tf.expand_dims(x, axis=0)),\n",
        ")"
      ]
    },
    {
      "cell_type": "code",
      "execution_count": 30,
      "metadata": {
        "id": "h79M1fl0DQrg"
      },
      "outputs": [],
      "source": [
        "fc_layer_params = (100, 50)\n",
        "action_tensor_spec = tensor_spec.from_spec(tf_env.action_spec())\n",
        "num_actions = action_tensor_spec.maximum - action_tensor_spec.minimum + 1\n",
        "\n",
        "# Define a helper function to create Dense layers configured with the right\n",
        "# activation and kernel initializer.\n",
        "def dense_layer(num_units):\n",
        "  return tf.keras.layers.Dense(\n",
        "      num_units,\n",
        "      activation=tf.keras.activations.relu,\n",
        "      kernel_initializer=tf.keras.initializers.VarianceScaling(\n",
        "          scale=2.0, mode='fan_in', distribution='truncated_normal'))\n",
        "\n",
        "# QNetwork consists of a sequence of Dense layers followed by a dense layer\n",
        "# with `num_actions` units to generate one q_value per available action as\n",
        "# its output.\n",
        "dense_layers = [dense_layer(num_units) for num_units in fc_layer_params]\n",
        "q_values_layer = tf.keras.layers.Dense(\n",
        "    num_actions,\n",
        "    activation=None,\n",
        "    kernel_initializer=tf.keras.initializers.RandomUniform(\n",
        "        minval=-0.03, maxval=0.03),\n",
        "    bias_initializer=tf.keras.initializers.Constant(-0.2))\n",
        "q_net = tf_agents.networks.Sequential(dense_layers + [q_values_layer])"
      ]
    },
    {
      "cell_type": "code",
      "execution_count": 31,
      "metadata": {
        "id": "Piea5xwl8g3x"
      },
      "outputs": [],
      "source": [
        "# the q_net receives a STATE and returns Q Values\n",
        "# q_net = QNetwork(\n",
        "#     tf_env.observation_spec(),\n",
        "#     tf_env.action_spec(),\n",
        "#     batch_squash=True\n",
        "#     # preprocessing_layers=tf.keras.layers.Lambda(lambda x: tf.expand_dims(x, axis=0)),\n",
        "# )\n",
        "\n",
        "\n",
        "optimizer = tf.keras.optimizers.Adam(learning_rate=0.01)\n",
        "train_step_counter = tf.Variable(0)\n",
        "\n",
        "agent = dqn_agent.DqnAgent(\n",
        "    tf_env.time_step_spec(),\n",
        "    tf_env.action_spec(),\n",
        "    q_network=q_net,\n",
        "    optimizer=optimizer,\n",
        "    td_errors_loss_fn=common.element_wise_squared_loss,\n",
        "    train_step_counter=train_step_counter\n",
        ")\n",
        "\n",
        "agent.initialize()\n",
        "\n",
        "# a policy receives a TIMESTEP and returns an ACTION\n",
        "collect_policy = agent.collect_policy\n",
        "policy = agent.collect_policy"
      ]
    },
    {
      "cell_type": "code",
      "execution_count": 32,
      "metadata": {
        "id": "Izolz8SA-AUb"
      },
      "outputs": [],
      "source": [
        "# table_name = 'uniform_table'\n",
        "# replay_buffer_signature = tensor_spec.from_spec(\n",
        "#       agent.collect_data_spec)\n",
        "# replay_buffer_signature = tensor_spec.add_outer_dim(\n",
        "#     replay_buffer_signature)\n",
        "# \n",
        "# replay_buffer_max_length = 1_000\n",
        "# \n",
        "# table = reverb.Table(\n",
        "#     table_name,\n",
        "#     max_size=replay_buffer_max_length,\n",
        "#     sampler=reverb.selectors.Uniform(),\n",
        "#     remover=reverb.selectors.Fifo(),\n",
        "#     rate_limiter=reverb.rate_limiters.MinSize(1),\n",
        "#     signature=replay_buffer_signature)\n",
        "# \n",
        "# reverb_server = reverb.Server([table])\n",
        "# \n",
        "# replay_buffer = reverb_replay_buffer.ReverbReplayBuffer(\n",
        "#     agent.collect_data_spec,\n",
        "#     table_name=table_name,\n",
        "#     sequence_length=2,\n",
        "#     local_server=reverb_server)\n",
        "# \n",
        "# rb_observer = reverb_utils.ReverbAddTrajectoryObserver(\n",
        "#   replay_buffer.py_client,\n",
        "#   table_name,\n",
        "#   sequence_length=2)"
      ]
    },
    {
      "cell_type": "code",
      "execution_count": 33,
      "metadata": {
        "id": "1sAtiuBs8g3y"
      },
      "outputs": [],
      "source": [
        "replay_buffer_capacity = 1000\n",
        "\n",
        "replay_buffer = tf_uniform_replay_buffer.TFUniformReplayBuffer(\n",
        "    agent.collect_data_spec,\n",
        "    batch_size=tf_env.batch_size,\n",
        "    max_length=replay_buffer_capacity)"
      ]
    },
    {
      "cell_type": "code",
      "execution_count": 34,
      "metadata": {
        "id": "6rR5ydGx8g3y"
      },
      "outputs": [],
      "source": [
        "avg_return = tf_metrics.AverageReturnMetric()\n",
        "avg_episode_length = tf_metrics.AverageEpisodeLengthMetric()"
      ]
    },
    {
      "cell_type": "code",
      "execution_count": 35,
      "metadata": {
        "id": "zohgYE6b8g3y"
      },
      "outputs": [],
      "source": [
        "observers = [replay_buffer.add_batch, avg_return, avg_episode_length]"
      ]
    },
    {
      "cell_type": "code",
      "execution_count": 36,
      "metadata": {
        "id": "tLSEFPSC8g3z"
      },
      "outputs": [],
      "source": [
        "#  should only be used for episodic environments\n",
        "tf_driver = drivers.dynamic_step_driver.DynamicStepDriver(\n",
        "    env=tf_env,\n",
        "    policy=agent.collect_policy,\n",
        "    observers=observers,\n",
        "    num_steps=20\n",
        ")"
      ]
    },
    {
      "cell_type": "code",
      "execution_count": 37,
      "metadata": {
        "colab": {
          "base_uri": "https://localhost:8080/"
        },
        "id": "sxvGBJgZ8g30",
        "outputId": "029f71c7-5188-4de8-92c0-83bb6a8217ac"
      },
      "outputs": [
        {
          "data": {
            "text/plain": [
              "(TimeStep(\n",
              " {'discount': <tf.Tensor: shape=(1,), dtype=float32, numpy=array([0.9], dtype=float32)>,\n",
              "  'observation': <tf.Tensor: shape=(1, 1), dtype=float64, numpy=array([[2994.56436945]])>,\n",
              "  'reward': <tf.Tensor: shape=(1,), dtype=float32, numpy=array([0.71627915], dtype=float32)>,\n",
              "  'step_type': <tf.Tensor: shape=(1,), dtype=int32, numpy=array([1])>}),\n",
              " ())"
            ]
          },
          "execution_count": 37,
          "metadata": {},
          "output_type": "execute_result"
        }
      ],
      "source": [
        "tf_driver.run()"
      ]
    },
    {
      "cell_type": "code",
      "execution_count": 38,
      "metadata": {
        "id": "waMPsVmaCEIq"
      },
      "outputs": [],
      "source": [
        "batch_size = 32\n",
        "\n",
        "dataset = replay_buffer.as_dataset(\n",
        "    num_parallel_calls=3,\n",
        "    sample_batch_size=batch_size,\n",
        "    num_steps=2).prefetch(3)"
      ]
    },
    {
      "cell_type": "code",
      "execution_count": 39,
      "metadata": {
        "colab": {
          "base_uri": "https://localhost:8080/"
        },
        "id": "gtoe57egCJjo",
        "outputId": "13d65a8c-aa38-4c49-f565-11cbce0a051f"
      },
      "outputs": [],
      "source": [
        "iterator = iter(dataset)\n",
        "# print(iterator)"
      ]
    },
    {
      "cell_type": "code",
      "execution_count": 40,
      "metadata": {
        "id": "DHwwQy6ICx7P"
      },
      "outputs": [],
      "source": [
        "returns1 = []"
      ]
    },
    {
      "cell_type": "code",
      "execution_count": null,
      "metadata": {
        "id": "1tUfsTxcCMQk"
      },
      "outputs": [],
      "source": [
        "for _ in range(500):\n",
        "    time_step, _ = tf_driver.run()\n",
        "    \n",
        "    experience, _ = next(iterator)\n",
        "    train_loss = agent.train(experience).loss\n",
        "    step = agent.train_step_counter.numpy()\n",
        "    returns1.append(avg_return.result().numpy())\n",
        "    \n",
        "    if len(returns1) % 20 == 0:\n",
        "        print(np.mean(returns1[-100:]))"
      ]
    },
    {
      "cell_type": "code",
      "execution_count": null,
      "metadata": {
        "colab": {
          "base_uri": "https://localhost:8080/",
          "height": 293
        },
        "id": "DdZmxT5gCMS0",
        "outputId": "cb757dd6-a0f5-4bb2-b794-1856472c4ddc"
      },
      "outputs": [],
      "source": [
        "import matplotlib.pyplot as plt\n",
        "import plotly.express as px\n",
        "\n",
        "px.line(np.array(returns))"
      ]
    },
    {
      "cell_type": "code",
      "execution_count": 44,
      "metadata": {},
      "outputs": [
        {
          "data": {
            "application/vnd.plotly.v1+json": {
              "config": {
                "plotlyServerURL": "https://plot.ly"
              },
              "data": [
                {
                  "hovertemplate": "variable=0<br>index=%{x}<br>value=%{y}<extra></extra>",
                  "legendgroup": "0",
                  "line": {
                    "color": "#636efa",
                    "dash": "solid"
                  },
                  "marker": {
                    "symbol": "circle"
                  },
                  "mode": "lines",
                  "name": "0",
                  "orientation": "v",
                  "showlegend": true,
                  "type": "scatter",
                  "x": [
                    0,
                    1,
                    2,
                    3,
                    4,
                    5,
                    6,
                    7,
                    8,
                    9,
                    10,
                    11,
                    12,
                    13,
                    14,
                    15,
                    16,
                    17,
                    18,
                    19,
                    20,
                    21,
                    22,
                    23,
                    24,
                    25,
                    26,
                    27,
                    28,
                    29,
                    30,
                    31,
                    32,
                    33,
                    34,
                    35,
                    36,
                    37,
                    38,
                    39,
                    40,
                    41,
                    42,
                    43,
                    44,
                    45,
                    46,
                    47,
                    48,
                    49,
                    50,
                    51,
                    52,
                    53,
                    54,
                    55,
                    56,
                    57,
                    58,
                    59,
                    60,
                    61,
                    62,
                    63,
                    64,
                    65,
                    66,
                    67,
                    68,
                    69,
                    70,
                    71,
                    72,
                    73,
                    74,
                    75,
                    76,
                    77,
                    78,
                    79,
                    80,
                    81,
                    82,
                    83,
                    84,
                    85,
                    86,
                    87,
                    88,
                    89,
                    90,
                    91,
                    92,
                    93,
                    94,
                    95,
                    96,
                    97,
                    98,
                    99,
                    100,
                    101,
                    102,
                    103,
                    104,
                    105,
                    106,
                    107,
                    108,
                    109,
                    110,
                    111,
                    112,
                    113,
                    114,
                    115,
                    116,
                    117,
                    118,
                    119,
                    120,
                    121,
                    122,
                    123,
                    124,
                    125,
                    126,
                    127,
                    128,
                    129,
                    130,
                    131,
                    132,
                    133,
                    134,
                    135,
                    136,
                    137,
                    138,
                    139,
                    140,
                    141,
                    142,
                    143,
                    144,
                    145,
                    146,
                    147,
                    148,
                    149,
                    150,
                    151,
                    152,
                    153,
                    154,
                    155,
                    156,
                    157,
                    158,
                    159,
                    160,
                    161,
                    162,
                    163,
                    164,
                    165,
                    166,
                    167,
                    168,
                    169,
                    170,
                    171,
                    172,
                    173,
                    174,
                    175,
                    176,
                    177,
                    178,
                    179,
                    180,
                    181,
                    182,
                    183,
                    184,
                    185,
                    186,
                    187,
                    188,
                    189,
                    190,
                    191,
                    192,
                    193,
                    194,
                    195,
                    196,
                    197,
                    198,
                    199,
                    200,
                    201,
                    202,
                    203,
                    204,
                    205,
                    206,
                    207,
                    208,
                    209,
                    210,
                    211,
                    212,
                    213,
                    214,
                    215,
                    216,
                    217,
                    218,
                    219,
                    220,
                    221,
                    222,
                    223,
                    224,
                    225,
                    226,
                    227,
                    228,
                    229,
                    230,
                    231,
                    232,
                    233,
                    234,
                    235,
                    236,
                    237,
                    238,
                    239,
                    240,
                    241,
                    242,
                    243,
                    244,
                    245,
                    246,
                    247,
                    248,
                    249,
                    250,
                    251,
                    252,
                    253,
                    254,
                    255,
                    256,
                    257,
                    258,
                    259,
                    260,
                    261,
                    262,
                    263,
                    264,
                    265,
                    266,
                    267,
                    268,
                    269,
                    270,
                    271,
                    272,
                    273,
                    274,
                    275,
                    276,
                    277,
                    278,
                    279,
                    280,
                    281,
                    282,
                    283,
                    284,
                    285,
                    286,
                    287,
                    288,
                    289,
                    290,
                    291,
                    292,
                    293,
                    294,
                    295,
                    296,
                    297,
                    298,
                    299,
                    300,
                    301,
                    302,
                    303,
                    304,
                    305,
                    306,
                    307,
                    308,
                    309,
                    310,
                    311,
                    312,
                    313,
                    314,
                    315,
                    316,
                    317,
                    318,
                    319,
                    320,
                    321,
                    322,
                    323,
                    324,
                    325,
                    326,
                    327,
                    328,
                    329,
                    330,
                    331,
                    332,
                    333,
                    334,
                    335,
                    336,
                    337,
                    338,
                    339,
                    340,
                    341,
                    342,
                    343,
                    344,
                    345,
                    346,
                    347,
                    348,
                    349,
                    350,
                    351,
                    352,
                    353,
                    354,
                    355,
                    356,
                    357,
                    358,
                    359,
                    360,
                    361,
                    362,
                    363,
                    364,
                    365,
                    366,
                    367,
                    368,
                    369,
                    370,
                    371,
                    372,
                    373,
                    374,
                    375,
                    376,
                    377,
                    378,
                    379,
                    380,
                    381,
                    382,
                    383,
                    384,
                    385,
                    386,
                    387,
                    388,
                    389,
                    390,
                    391,
                    392,
                    393,
                    394,
                    395,
                    396,
                    397,
                    398,
                    399,
                    400,
                    401,
                    402,
                    403,
                    404,
                    405,
                    406,
                    407,
                    408,
                    409,
                    410,
                    411,
                    412,
                    413,
                    414,
                    415,
                    416,
                    417,
                    418,
                    419,
                    420,
                    421,
                    422,
                    423,
                    424,
                    425,
                    426,
                    427,
                    428,
                    429,
                    430,
                    431,
                    432,
                    433,
                    434,
                    435,
                    436,
                    437,
                    438,
                    439,
                    440,
                    441,
                    442,
                    443,
                    444,
                    445,
                    446,
                    447,
                    448,
                    449,
                    450,
                    451,
                    452,
                    453,
                    454,
                    455,
                    456,
                    457,
                    458,
                    459,
                    460,
                    461,
                    462,
                    463,
                    464,
                    465,
                    466,
                    467,
                    468,
                    469,
                    470,
                    471,
                    472,
                    473,
                    474,
                    475,
                    476,
                    477,
                    478,
                    479,
                    480,
                    481,
                    482,
                    483,
                    484,
                    485,
                    486,
                    487,
                    488,
                    489,
                    490,
                    491,
                    492,
                    493,
                    494,
                    495,
                    496,
                    497,
                    498,
                    499
                  ],
                  "xaxis": "x",
                  "y": [
                    0,
                    0,
                    0,
                    -24992.35,
                    -24992.35,
                    -24992.35,
                    -24992.35,
                    -24992.35,
                    -26503.04,
                    -26503.04,
                    -26503.04,
                    -26503.04,
                    -26503.04,
                    -22002.889,
                    -22002.889,
                    -22002.889,
                    -22002.889,
                    -22002.889,
                    -1261247.6,
                    -1261247.6,
                    -1261247.6,
                    -1261247.6,
                    -1261247.6,
                    -1600343.2,
                    -1600343.2,
                    -1600343.2,
                    -1600343.2,
                    -1600343.2,
                    -1336978.1,
                    -1336978.1,
                    -1336978.1,
                    -1336978.1,
                    -1336978.1,
                    -1173835.2,
                    -1173835.2,
                    -1173835.2,
                    -1173835.2,
                    -1173835.2,
                    -1046856.5,
                    -1046856.5,
                    -1046856.5,
                    -1046856.5,
                    -1046856.5,
                    -931099.7,
                    -931099.7,
                    -931099.7,
                    -931099.7,
                    -931099.7,
                    -846770.8,
                    -846770.8,
                    -846770.8,
                    -846770.8,
                    -846770.8,
                    -851444.3,
                    -851444.3,
                    -851444.3,
                    -851444.3,
                    -851444.3,
                    -854642.3,
                    -854642.3,
                    -854642.3,
                    -854642.3,
                    -854642.3,
                    -864844,
                    -864844,
                    -864844,
                    -864844,
                    -864844,
                    -2212071.8,
                    -2212071.8,
                    -2212071.8,
                    -2212071.8,
                    -2212071.8,
                    -1919001.8,
                    -1919001.8,
                    -1919001.8,
                    -1919001.8,
                    -1919001.8,
                    -1920486,
                    -1920486,
                    -1920486,
                    -1920486,
                    -1920486,
                    -1909882,
                    -1909882,
                    -1909882,
                    -1909882,
                    -1909882,
                    -1923381.4,
                    -1923381.4,
                    -1923381.4,
                    -1923381.4,
                    -1923381.4,
                    -1970997.2,
                    -1970997.2,
                    -1970997.2,
                    -1970997.2,
                    -1970997.2,
                    -1985417.2,
                    -1985417.2,
                    -1985417.2,
                    -1985417.2,
                    -1985417.2,
                    -1994745.6,
                    -1994745.6,
                    -1994745.6,
                    -1994745.6,
                    -1994745.6,
                    -2014445.6,
                    -2014445.6,
                    -2014445.6,
                    -2014445.6,
                    -2014445.6,
                    -2054842.2,
                    -2054842.2,
                    -2054842.2,
                    -2054842.2,
                    -2054842.2,
                    -255115.1,
                    -255115.1,
                    -255115.1,
                    -255115.1,
                    -255115.1,
                    -291614.56,
                    -291614.56,
                    -291614.56,
                    -291614.56,
                    -291614.56,
                    -316613.2,
                    -316613.2,
                    -316613.2,
                    -316613.2,
                    -316613.2,
                    -370220.25,
                    -370220.25,
                    -370220.25,
                    -370220.25,
                    -370220.25,
                    -413419.5,
                    -413419.5,
                    -413419.5,
                    -413419.5,
                    -413419.5,
                    -399499.16,
                    -399499.16,
                    -399499.16,
                    -399499.16,
                    -399499.16,
                    -389697.84,
                    -389697.84,
                    -389697.84,
                    -389697.84,
                    -389697.84,
                    -438996.94,
                    -438996.94,
                    -438996.94,
                    -438996.94,
                    -438996.94,
                    -422295.56,
                    -422295.56,
                    -422295.56,
                    -422295.56,
                    -422295.56,
                    -418701.7,
                    -418701.7,
                    -418701.7,
                    -418701.7,
                    -418701.7,
                    -440201.3,
                    -440201.3,
                    -440201.3,
                    -440201.3,
                    -440201.3,
                    -421198.66,
                    -421198.66,
                    -421198.66,
                    -421198.66,
                    -421198.66,
                    -414702.1,
                    -414702.1,
                    -414702.1,
                    -414702.1,
                    -414702.1,
                    -395301.2,
                    -395301.2,
                    -395301.2,
                    -395301.2,
                    -395301.2,
                    -352203.1,
                    -352203.1,
                    -352203.1,
                    -352203.1,
                    -352203.1,
                    -347803.06,
                    -347803.06,
                    -347803.06,
                    -347803.06,
                    -347803.06,
                    -364803.06,
                    -364803.06,
                    -364803.06,
                    -364803.06,
                    -364803.06,
                    -328801.28,
                    -328801.28,
                    -328801.28,
                    -328801.28,
                    -328801.28,
                    -322506.16,
                    -322506.16,
                    -322506.16,
                    -322506.16,
                    -322506.16,
                    -277513.97,
                    -277513.97,
                    -277513.97,
                    -277513.97,
                    -277513.97,
                    -213442.53,
                    -213442.53,
                    -213442.53,
                    -213442.53,
                    -213442.53,
                    -196257.53,
                    -196257.53,
                    -196257.53,
                    -196257.53,
                    -196257.53,
                    -176456.83,
                    -176456.83,
                    -176456.83,
                    -176456.83,
                    -176456.83,
                    -134659.97,
                    -134659.97,
                    -134659.97,
                    -134659.97,
                    -134659.97,
                    -122157.02,
                    -122157.02,
                    -122157.02,
                    -122157.02,
                    -122157.02,
                    -133059.66,
                    -133059.66,
                    -133059.66,
                    -133059.66,
                    -133059.66,
                    -142558.4,
                    -142558.4,
                    -142558.4,
                    -142558.4,
                    -142558.4,
                    -152860.16,
                    -152860.16,
                    -152860.16,
                    -152860.16,
                    -152860.16,
                    -190257.69,
                    -190257.69,
                    -190257.69,
                    -190257.69,
                    -190257.69,
                    -188842.58,
                    -188842.58,
                    -188842.58,
                    -188842.58,
                    -188842.58,
                    -189327.28,
                    -189327.28,
                    -189327.28,
                    -189327.28,
                    -189327.28,
                    -190063.47,
                    -190063.47,
                    -190063.47,
                    -190063.47,
                    -190063.47,
                    -188064.86,
                    -188064.86,
                    -188064.86,
                    -188064.86,
                    -188064.86,
                    -186862.88,
                    -186862.88,
                    -186862.88,
                    -186862.88,
                    -186862.88,
                    -170967.58,
                    -170967.58,
                    -170967.58,
                    -170967.58,
                    -170967.58,
                    -130572.7,
                    -130572.7,
                    -130572.7,
                    -130572.7,
                    -130572.7,
                    -90971.664,
                    -90971.664,
                    -90971.664,
                    -90971.664,
                    -90971.664,
                    -51373.85,
                    -51373.85,
                    -51373.85,
                    -51373.85,
                    -51373.85,
                    -11574.33,
                    -11574.33,
                    -11574.33,
                    -11574.33,
                    -11574.33,
                    -9781.438,
                    -9781.438,
                    -9781.438,
                    -9781.438,
                    -9781.438,
                    -6978.108,
                    -6978.108,
                    -6978.108,
                    -6978.108,
                    -6978.108,
                    -3528.386,
                    -3528.386,
                    -3528.386,
                    -3528.386,
                    -3528.386,
                    -4937.6465,
                    -4937.6465,
                    -4937.6465,
                    -4937.6465,
                    -4937.6465,
                    -5148.644,
                    -5148.644,
                    -5148.644,
                    -5148.644,
                    -5148.644,
                    -4740.1465,
                    -4740.1465,
                    -4740.1465,
                    -4740.1465,
                    -4740.1465,
                    -4669.1963,
                    -4669.1963,
                    -4669.1963,
                    -4669.1963,
                    -4669.1963,
                    -4595.484,
                    -4595.484,
                    -4595.484,
                    -4595.484,
                    -4595.484,
                    -4799.9604,
                    -4799.9604,
                    -4799.9604,
                    -4799.9604,
                    -4799.9604,
                    -4699.7754,
                    -4699.7754,
                    -4699.7754,
                    -4699.7754,
                    -4699.7754,
                    -5395.5537,
                    -5395.5537,
                    -5395.5537,
                    -5395.5537,
                    -5395.5537,
                    -5286.9614,
                    -5286.9614,
                    -5286.9614,
                    -5286.9614,
                    -5286.9614,
                    -5584.6377,
                    -5584.6377,
                    -5584.6377,
                    -5584.6377,
                    -5584.6377,
                    -4606.5884,
                    -4606.5884,
                    -4606.5884,
                    -4606.5884,
                    -4606.5884,
                    -5490.61,
                    -5490.61,
                    -5490.61,
                    -5490.61,
                    -5490.61,
                    -5894.2764,
                    -5894.2764,
                    -5894.2764,
                    -5894.2764,
                    -5894.2764,
                    -6382.6753,
                    -6382.6753,
                    -6382.6753,
                    -6382.6753,
                    -6382.6753,
                    -6483.258,
                    -6483.258,
                    -6483.258,
                    -6483.258,
                    -6483.258,
                    -6809.5166,
                    -6809.5166,
                    -6809.5166,
                    -6809.5166,
                    -6809.5166,
                    -7164.956,
                    -7164.956,
                    -7164.956,
                    -7164.956,
                    -7164.956,
                    -6676.431,
                    -6676.431,
                    -6676.431,
                    -6676.431,
                    -6676.431,
                    -9366.857,
                    -9366.857,
                    -9366.857,
                    -9366.857,
                    -9366.857,
                    -9077.56,
                    -9077.56,
                    -9077.56,
                    -9077.56,
                    -9077.56,
                    -8946.791,
                    -8946.791,
                    -8946.791,
                    -8946.791,
                    -8946.791,
                    -9542.559,
                    -9542.559,
                    -9542.559,
                    -9542.559,
                    -9542.559,
                    -9147.123,
                    -9147.123,
                    -9147.123,
                    -9147.123,
                    -9147.123,
                    -10497.152,
                    -10497.152,
                    -10497.152,
                    -10497.152,
                    -10497.152,
                    -10382.8545,
                    -10382.8545,
                    -10382.8545,
                    -10382.8545,
                    -10382.8545,
                    -9674.697,
                    -9674.697,
                    -9674.697,
                    -9674.697,
                    -9674.697,
                    -10821.761,
                    -10821.761,
                    -10821.761,
                    -10821.761,
                    -10821.761,
                    -14956.042,
                    -14956.042,
                    -14956.042,
                    -14956.042,
                    -14956.042,
                    -15880.63,
                    -15880.63,
                    -15880.63,
                    -15880.63,
                    -15880.63,
                    -17069.28,
                    -17069.28,
                    -17069.28,
                    -17069.28,
                    -17069.28,
                    -17196.02,
                    -17196.02,
                    -17196.02,
                    -17196.02,
                    -17196.02,
                    -15821.292,
                    -15821.292,
                    -15821.292,
                    -15821.292,
                    -15821.292,
                    -15456.205,
                    -15456.205,
                    -15456.205,
                    -15456.205,
                    -15456.205,
                    -13643.278,
                    -13643.278,
                    -13643.278,
                    -13643.278,
                    -13643.278,
                    -14933.307,
                    -14933.307
                  ],
                  "yaxis": "y"
                }
              ],
              "layout": {
                "legend": {
                  "title": {
                    "text": "variable"
                  },
                  "tracegroupgap": 0
                },
                "margin": {
                  "t": 60
                },
                "template": {
                  "data": {
                    "bar": [
                      {
                        "error_x": {
                          "color": "#2a3f5f"
                        },
                        "error_y": {
                          "color": "#2a3f5f"
                        },
                        "marker": {
                          "line": {
                            "color": "#E5ECF6",
                            "width": 0.5
                          },
                          "pattern": {
                            "fillmode": "overlay",
                            "size": 10,
                            "solidity": 0.2
                          }
                        },
                        "type": "bar"
                      }
                    ],
                    "barpolar": [
                      {
                        "marker": {
                          "line": {
                            "color": "#E5ECF6",
                            "width": 0.5
                          },
                          "pattern": {
                            "fillmode": "overlay",
                            "size": 10,
                            "solidity": 0.2
                          }
                        },
                        "type": "barpolar"
                      }
                    ],
                    "carpet": [
                      {
                        "aaxis": {
                          "endlinecolor": "#2a3f5f",
                          "gridcolor": "white",
                          "linecolor": "white",
                          "minorgridcolor": "white",
                          "startlinecolor": "#2a3f5f"
                        },
                        "baxis": {
                          "endlinecolor": "#2a3f5f",
                          "gridcolor": "white",
                          "linecolor": "white",
                          "minorgridcolor": "white",
                          "startlinecolor": "#2a3f5f"
                        },
                        "type": "carpet"
                      }
                    ],
                    "choropleth": [
                      {
                        "colorbar": {
                          "outlinewidth": 0,
                          "ticks": ""
                        },
                        "type": "choropleth"
                      }
                    ],
                    "contour": [
                      {
                        "colorbar": {
                          "outlinewidth": 0,
                          "ticks": ""
                        },
                        "colorscale": [
                          [
                            0,
                            "#0d0887"
                          ],
                          [
                            0.1111111111111111,
                            "#46039f"
                          ],
                          [
                            0.2222222222222222,
                            "#7201a8"
                          ],
                          [
                            0.3333333333333333,
                            "#9c179e"
                          ],
                          [
                            0.4444444444444444,
                            "#bd3786"
                          ],
                          [
                            0.5555555555555556,
                            "#d8576b"
                          ],
                          [
                            0.6666666666666666,
                            "#ed7953"
                          ],
                          [
                            0.7777777777777778,
                            "#fb9f3a"
                          ],
                          [
                            0.8888888888888888,
                            "#fdca26"
                          ],
                          [
                            1,
                            "#f0f921"
                          ]
                        ],
                        "type": "contour"
                      }
                    ],
                    "contourcarpet": [
                      {
                        "colorbar": {
                          "outlinewidth": 0,
                          "ticks": ""
                        },
                        "type": "contourcarpet"
                      }
                    ],
                    "heatmap": [
                      {
                        "colorbar": {
                          "outlinewidth": 0,
                          "ticks": ""
                        },
                        "colorscale": [
                          [
                            0,
                            "#0d0887"
                          ],
                          [
                            0.1111111111111111,
                            "#46039f"
                          ],
                          [
                            0.2222222222222222,
                            "#7201a8"
                          ],
                          [
                            0.3333333333333333,
                            "#9c179e"
                          ],
                          [
                            0.4444444444444444,
                            "#bd3786"
                          ],
                          [
                            0.5555555555555556,
                            "#d8576b"
                          ],
                          [
                            0.6666666666666666,
                            "#ed7953"
                          ],
                          [
                            0.7777777777777778,
                            "#fb9f3a"
                          ],
                          [
                            0.8888888888888888,
                            "#fdca26"
                          ],
                          [
                            1,
                            "#f0f921"
                          ]
                        ],
                        "type": "heatmap"
                      }
                    ],
                    "heatmapgl": [
                      {
                        "colorbar": {
                          "outlinewidth": 0,
                          "ticks": ""
                        },
                        "colorscale": [
                          [
                            0,
                            "#0d0887"
                          ],
                          [
                            0.1111111111111111,
                            "#46039f"
                          ],
                          [
                            0.2222222222222222,
                            "#7201a8"
                          ],
                          [
                            0.3333333333333333,
                            "#9c179e"
                          ],
                          [
                            0.4444444444444444,
                            "#bd3786"
                          ],
                          [
                            0.5555555555555556,
                            "#d8576b"
                          ],
                          [
                            0.6666666666666666,
                            "#ed7953"
                          ],
                          [
                            0.7777777777777778,
                            "#fb9f3a"
                          ],
                          [
                            0.8888888888888888,
                            "#fdca26"
                          ],
                          [
                            1,
                            "#f0f921"
                          ]
                        ],
                        "type": "heatmapgl"
                      }
                    ],
                    "histogram": [
                      {
                        "marker": {
                          "pattern": {
                            "fillmode": "overlay",
                            "size": 10,
                            "solidity": 0.2
                          }
                        },
                        "type": "histogram"
                      }
                    ],
                    "histogram2d": [
                      {
                        "colorbar": {
                          "outlinewidth": 0,
                          "ticks": ""
                        },
                        "colorscale": [
                          [
                            0,
                            "#0d0887"
                          ],
                          [
                            0.1111111111111111,
                            "#46039f"
                          ],
                          [
                            0.2222222222222222,
                            "#7201a8"
                          ],
                          [
                            0.3333333333333333,
                            "#9c179e"
                          ],
                          [
                            0.4444444444444444,
                            "#bd3786"
                          ],
                          [
                            0.5555555555555556,
                            "#d8576b"
                          ],
                          [
                            0.6666666666666666,
                            "#ed7953"
                          ],
                          [
                            0.7777777777777778,
                            "#fb9f3a"
                          ],
                          [
                            0.8888888888888888,
                            "#fdca26"
                          ],
                          [
                            1,
                            "#f0f921"
                          ]
                        ],
                        "type": "histogram2d"
                      }
                    ],
                    "histogram2dcontour": [
                      {
                        "colorbar": {
                          "outlinewidth": 0,
                          "ticks": ""
                        },
                        "colorscale": [
                          [
                            0,
                            "#0d0887"
                          ],
                          [
                            0.1111111111111111,
                            "#46039f"
                          ],
                          [
                            0.2222222222222222,
                            "#7201a8"
                          ],
                          [
                            0.3333333333333333,
                            "#9c179e"
                          ],
                          [
                            0.4444444444444444,
                            "#bd3786"
                          ],
                          [
                            0.5555555555555556,
                            "#d8576b"
                          ],
                          [
                            0.6666666666666666,
                            "#ed7953"
                          ],
                          [
                            0.7777777777777778,
                            "#fb9f3a"
                          ],
                          [
                            0.8888888888888888,
                            "#fdca26"
                          ],
                          [
                            1,
                            "#f0f921"
                          ]
                        ],
                        "type": "histogram2dcontour"
                      }
                    ],
                    "mesh3d": [
                      {
                        "colorbar": {
                          "outlinewidth": 0,
                          "ticks": ""
                        },
                        "type": "mesh3d"
                      }
                    ],
                    "parcoords": [
                      {
                        "line": {
                          "colorbar": {
                            "outlinewidth": 0,
                            "ticks": ""
                          }
                        },
                        "type": "parcoords"
                      }
                    ],
                    "pie": [
                      {
                        "automargin": true,
                        "type": "pie"
                      }
                    ],
                    "scatter": [
                      {
                        "fillpattern": {
                          "fillmode": "overlay",
                          "size": 10,
                          "solidity": 0.2
                        },
                        "type": "scatter"
                      }
                    ],
                    "scatter3d": [
                      {
                        "line": {
                          "colorbar": {
                            "outlinewidth": 0,
                            "ticks": ""
                          }
                        },
                        "marker": {
                          "colorbar": {
                            "outlinewidth": 0,
                            "ticks": ""
                          }
                        },
                        "type": "scatter3d"
                      }
                    ],
                    "scattercarpet": [
                      {
                        "marker": {
                          "colorbar": {
                            "outlinewidth": 0,
                            "ticks": ""
                          }
                        },
                        "type": "scattercarpet"
                      }
                    ],
                    "scattergeo": [
                      {
                        "marker": {
                          "colorbar": {
                            "outlinewidth": 0,
                            "ticks": ""
                          }
                        },
                        "type": "scattergeo"
                      }
                    ],
                    "scattergl": [
                      {
                        "marker": {
                          "colorbar": {
                            "outlinewidth": 0,
                            "ticks": ""
                          }
                        },
                        "type": "scattergl"
                      }
                    ],
                    "scattermapbox": [
                      {
                        "marker": {
                          "colorbar": {
                            "outlinewidth": 0,
                            "ticks": ""
                          }
                        },
                        "type": "scattermapbox"
                      }
                    ],
                    "scatterpolar": [
                      {
                        "marker": {
                          "colorbar": {
                            "outlinewidth": 0,
                            "ticks": ""
                          }
                        },
                        "type": "scatterpolar"
                      }
                    ],
                    "scatterpolargl": [
                      {
                        "marker": {
                          "colorbar": {
                            "outlinewidth": 0,
                            "ticks": ""
                          }
                        },
                        "type": "scatterpolargl"
                      }
                    ],
                    "scatterternary": [
                      {
                        "marker": {
                          "colorbar": {
                            "outlinewidth": 0,
                            "ticks": ""
                          }
                        },
                        "type": "scatterternary"
                      }
                    ],
                    "surface": [
                      {
                        "colorbar": {
                          "outlinewidth": 0,
                          "ticks": ""
                        },
                        "colorscale": [
                          [
                            0,
                            "#0d0887"
                          ],
                          [
                            0.1111111111111111,
                            "#46039f"
                          ],
                          [
                            0.2222222222222222,
                            "#7201a8"
                          ],
                          [
                            0.3333333333333333,
                            "#9c179e"
                          ],
                          [
                            0.4444444444444444,
                            "#bd3786"
                          ],
                          [
                            0.5555555555555556,
                            "#d8576b"
                          ],
                          [
                            0.6666666666666666,
                            "#ed7953"
                          ],
                          [
                            0.7777777777777778,
                            "#fb9f3a"
                          ],
                          [
                            0.8888888888888888,
                            "#fdca26"
                          ],
                          [
                            1,
                            "#f0f921"
                          ]
                        ],
                        "type": "surface"
                      }
                    ],
                    "table": [
                      {
                        "cells": {
                          "fill": {
                            "color": "#EBF0F8"
                          },
                          "line": {
                            "color": "white"
                          }
                        },
                        "header": {
                          "fill": {
                            "color": "#C8D4E3"
                          },
                          "line": {
                            "color": "white"
                          }
                        },
                        "type": "table"
                      }
                    ]
                  },
                  "layout": {
                    "annotationdefaults": {
                      "arrowcolor": "#2a3f5f",
                      "arrowhead": 0,
                      "arrowwidth": 1
                    },
                    "autotypenumbers": "strict",
                    "coloraxis": {
                      "colorbar": {
                        "outlinewidth": 0,
                        "ticks": ""
                      }
                    },
                    "colorscale": {
                      "diverging": [
                        [
                          0,
                          "#8e0152"
                        ],
                        [
                          0.1,
                          "#c51b7d"
                        ],
                        [
                          0.2,
                          "#de77ae"
                        ],
                        [
                          0.3,
                          "#f1b6da"
                        ],
                        [
                          0.4,
                          "#fde0ef"
                        ],
                        [
                          0.5,
                          "#f7f7f7"
                        ],
                        [
                          0.6,
                          "#e6f5d0"
                        ],
                        [
                          0.7,
                          "#b8e186"
                        ],
                        [
                          0.8,
                          "#7fbc41"
                        ],
                        [
                          0.9,
                          "#4d9221"
                        ],
                        [
                          1,
                          "#276419"
                        ]
                      ],
                      "sequential": [
                        [
                          0,
                          "#0d0887"
                        ],
                        [
                          0.1111111111111111,
                          "#46039f"
                        ],
                        [
                          0.2222222222222222,
                          "#7201a8"
                        ],
                        [
                          0.3333333333333333,
                          "#9c179e"
                        ],
                        [
                          0.4444444444444444,
                          "#bd3786"
                        ],
                        [
                          0.5555555555555556,
                          "#d8576b"
                        ],
                        [
                          0.6666666666666666,
                          "#ed7953"
                        ],
                        [
                          0.7777777777777778,
                          "#fb9f3a"
                        ],
                        [
                          0.8888888888888888,
                          "#fdca26"
                        ],
                        [
                          1,
                          "#f0f921"
                        ]
                      ],
                      "sequentialminus": [
                        [
                          0,
                          "#0d0887"
                        ],
                        [
                          0.1111111111111111,
                          "#46039f"
                        ],
                        [
                          0.2222222222222222,
                          "#7201a8"
                        ],
                        [
                          0.3333333333333333,
                          "#9c179e"
                        ],
                        [
                          0.4444444444444444,
                          "#bd3786"
                        ],
                        [
                          0.5555555555555556,
                          "#d8576b"
                        ],
                        [
                          0.6666666666666666,
                          "#ed7953"
                        ],
                        [
                          0.7777777777777778,
                          "#fb9f3a"
                        ],
                        [
                          0.8888888888888888,
                          "#fdca26"
                        ],
                        [
                          1,
                          "#f0f921"
                        ]
                      ]
                    },
                    "colorway": [
                      "#636efa",
                      "#EF553B",
                      "#00cc96",
                      "#ab63fa",
                      "#FFA15A",
                      "#19d3f3",
                      "#FF6692",
                      "#B6E880",
                      "#FF97FF",
                      "#FECB52"
                    ],
                    "font": {
                      "color": "#2a3f5f"
                    },
                    "geo": {
                      "bgcolor": "white",
                      "lakecolor": "white",
                      "landcolor": "#E5ECF6",
                      "showlakes": true,
                      "showland": true,
                      "subunitcolor": "white"
                    },
                    "hoverlabel": {
                      "align": "left"
                    },
                    "hovermode": "closest",
                    "mapbox": {
                      "style": "light"
                    },
                    "paper_bgcolor": "white",
                    "plot_bgcolor": "#E5ECF6",
                    "polar": {
                      "angularaxis": {
                        "gridcolor": "white",
                        "linecolor": "white",
                        "ticks": ""
                      },
                      "bgcolor": "#E5ECF6",
                      "radialaxis": {
                        "gridcolor": "white",
                        "linecolor": "white",
                        "ticks": ""
                      }
                    },
                    "scene": {
                      "xaxis": {
                        "backgroundcolor": "#E5ECF6",
                        "gridcolor": "white",
                        "gridwidth": 2,
                        "linecolor": "white",
                        "showbackground": true,
                        "ticks": "",
                        "zerolinecolor": "white"
                      },
                      "yaxis": {
                        "backgroundcolor": "#E5ECF6",
                        "gridcolor": "white",
                        "gridwidth": 2,
                        "linecolor": "white",
                        "showbackground": true,
                        "ticks": "",
                        "zerolinecolor": "white"
                      },
                      "zaxis": {
                        "backgroundcolor": "#E5ECF6",
                        "gridcolor": "white",
                        "gridwidth": 2,
                        "linecolor": "white",
                        "showbackground": true,
                        "ticks": "",
                        "zerolinecolor": "white"
                      }
                    },
                    "shapedefaults": {
                      "line": {
                        "color": "#2a3f5f"
                      }
                    },
                    "ternary": {
                      "aaxis": {
                        "gridcolor": "white",
                        "linecolor": "white",
                        "ticks": ""
                      },
                      "baxis": {
                        "gridcolor": "white",
                        "linecolor": "white",
                        "ticks": ""
                      },
                      "bgcolor": "#E5ECF6",
                      "caxis": {
                        "gridcolor": "white",
                        "linecolor": "white",
                        "ticks": ""
                      }
                    },
                    "title": {
                      "x": 0.05
                    },
                    "xaxis": {
                      "automargin": true,
                      "gridcolor": "white",
                      "linecolor": "white",
                      "ticks": "",
                      "title": {
                        "standoff": 15
                      },
                      "zerolinecolor": "white",
                      "zerolinewidth": 2
                    },
                    "yaxis": {
                      "automargin": true,
                      "gridcolor": "white",
                      "linecolor": "white",
                      "ticks": "",
                      "title": {
                        "standoff": 15
                      },
                      "zerolinecolor": "white",
                      "zerolinewidth": 2
                    }
                  }
                },
                "xaxis": {
                  "anchor": "y",
                  "domain": [
                    0,
                    1
                  ],
                  "title": {
                    "text": "index"
                  }
                },
                "yaxis": {
                  "anchor": "x",
                  "domain": [
                    0,
                    1
                  ],
                  "title": {
                    "text": "value"
                  }
                }
              }
            }
          },
          "metadata": {},
          "output_type": "display_data"
        }
      ],
      "source": [
        "px.line(np.array(returns1))"
      ]
    }
  ],
  "metadata": {
    "colab": {
      "provenance": []
    },
    "kernelspec": {
      "display_name": "Python 3.9.13 64-bit",
      "language": "python",
      "name": "python3"
    },
    "language_info": {
      "codemirror_mode": {
        "name": "ipython",
        "version": 3
      },
      "file_extension": ".py",
      "mimetype": "text/x-python",
      "name": "python",
      "nbconvert_exporter": "python",
      "pygments_lexer": "ipython3",
      "version": "3.9.13"
    },
    "orig_nbformat": 4,
    "vscode": {
      "interpreter": {
        "hash": "8f8cf99212f81ad0c4765861267244807ee1c18364846cdce387b28994a977ba"
      }
    }
  },
  "nbformat": 4,
  "nbformat_minor": 0
}
