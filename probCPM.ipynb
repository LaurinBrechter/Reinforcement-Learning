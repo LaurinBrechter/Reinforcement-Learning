{
 "cells": [
  {
   "cell_type": "code",
   "execution_count": 171,
   "metadata": {},
   "outputs": [],
   "source": [
    "import numpy as np\n",
    "from criticalpath import Node\n",
    "import pymc as pm\n",
    "import matplotlib.pyplot as plt"
   ]
  },
  {
   "cell_type": "code",
   "execution_count": 4,
   "metadata": {},
   "outputs": [],
   "source": [
    "# data = [\n",
    "#     {\"activity\": \"A\", \"duration\": 3, \"predecessors\": []},\n",
    "#     {\"activity\": \"B\", \"duration\": 4, \"predecessors\": [\"A\"]},\n",
    "#     {\"activity\": \"C\", \"duration\": 2, \"predecessors\": [\"A\"]},\n",
    "#     {\"activity\": \"D\", \"duration\": 5, \"predecessors\": [\"A\"]},\n",
    "#     {\"activity\": \"E\", \"duration\": 3, \"predecessors\": [\"C\", \"B\"]},\n",
    "#     {\"activity\": \"F\", \"duration\": 2, \"predecessors\": [\"D\"]},\n",
    "#     {\"activity\": \"G\", \"duration\": 3, \"predecessors\": [\"E\", \"F\"]},\n",
    "#     {\"activity\": \"I\", \"duration\": 2, \"predecessors\": [\"G\"]},\n",
    "# ]"
   ]
  },
  {
   "cell_type": "code",
   "execution_count": 172,
   "metadata": {},
   "outputs": [
    {
     "data": {
      "text/plain": [
       "14"
      ]
     },
     "execution_count": 172,
     "metadata": {},
     "output_type": "execute_result"
    }
   ],
   "source": [
    "data = [\n",
    "    {\"activity\": \"A\", \"true_duration\": 3, \"predecessors\": [], \n",
    "     \"true_std\": 1, \"guess\": 8, \"vagueness\": 1.5},\n",
    "    {\"activity\": \"B\", \"true_duration\": 3, \"predecessors\": [\"A\"], \n",
    "     \"true_std\": 0.5, \"guess\": 2, \"vagueness\": 1.3},\n",
    "    {\"activity\": \"C\", \"true_duration\": 4, \"predecessors\": [\"A\"], \n",
    "     \"true_std\": 1.5, \"guess\": 2, \"vagueness\": 4},\n",
    "    {\"activity\": \"D\", \"true_duration\": 6, \"predecessors\": [\"A\"], \n",
    "     \"true_std\": 2, \"guess\": 4, \"vagueness\": 2},\n",
    "    {\"activity\": \"E\", \"true_duration\": 5, \"predecessors\": [\"B\", \"C\", \"D\"], \n",
    "     \"true_std\": 3, \"guess\": 2, \"vagueness\": 1.2},\n",
    "]\n",
    "\n",
    "p = Node('project')\n",
    "\n",
    "for node in data:\n",
    "    p.add(Node(node['activity'], duration=node['true_duration']))\n",
    "\n",
    "for node in data:\n",
    "    if node['predecessors'] != []:\n",
    "        for predecessor in node['predecessors']:\n",
    "            p.link(predecessor, node['activity'])\n",
    "\n",
    "p.update_all()\n",
    "\n",
    "p.duration"
   ]
  },
  {
   "cell_type": "code",
   "execution_count": 173,
   "metadata": {},
   "outputs": [
    {
     "data": {
      "text/plain": [
       "[A, D, E]"
      ]
     },
     "execution_count": 173,
     "metadata": {},
     "output_type": "execute_result"
    }
   ],
   "source": [
    "p.get_critical_path()"
   ]
  },
  {
   "cell_type": "code",
   "execution_count": 174,
   "metadata": {},
   "outputs": [],
   "source": [
    "def simulate_normal(data:list[dict]):\n",
    "    \n",
    "    for idx, task in enumerate(data):\n",
    "        n_prev = np.random.randint(0,5)\n",
    "        prev = np.round(np.random.normal(task[\"true_duration\"], task[\"true_std\"], n_prev),2)\n",
    "        data[idx][\"prev_durations\"] = prev\n",
    "\n",
    "    return data"
   ]
  },
  {
   "cell_type": "code",
   "execution_count": 175,
   "metadata": {},
   "outputs": [],
   "source": [
    "d = simulate_normal(data)"
   ]
  },
  {
   "cell_type": "code",
   "execution_count": 179,
   "metadata": {},
   "outputs": [],
   "source": [
    "obs = d[0][\"prev_durations\"]\n",
    "expert_guess = 8\n",
    "vagueness = 1.7"
   ]
  },
  {
   "cell_type": "code",
   "execution_count": 180,
   "metadata": {},
   "outputs": [
    {
     "name": "stderr",
     "output_type": "stream",
     "text": [
      "/tmp/ipykernel_22593/3284531684.py:1: RuntimeWarning: Mean of empty slice.\n",
      "  obs.mean()\n"
     ]
    },
    {
     "data": {
      "text/plain": [
       "nan"
      ]
     },
     "execution_count": 180,
     "metadata": {},
     "output_type": "execute_result"
    }
   ],
   "source": [
    "obs.mean()"
   ]
  },
  {
   "cell_type": "code",
   "execution_count": 103,
   "metadata": {},
   "outputs": [],
   "source": [
    "def get_posterior_mean(obs, expert_guess, vagueness):\n",
    "    with pm.Model() as task_model:\n",
    "\n",
    "        mu = pm.Normal('mu', mu=expert_guess, sigma=vagueness)\n",
    "        sigma = pm.HalfNormal('sigma', sigma=3)\n",
    "\n",
    "        y = pm.Normal('y', mu=mu, sigma=sigma, observed=obs)\n",
    "\n",
    "        trace = pm.sample()\n",
    "\n",
    "    return trace.posterior[\"mu\"].values.mean(axis=0)"
   ]
  },
  {
   "cell_type": "code",
   "execution_count": null,
   "metadata": {},
   "outputs": [],
   "source": [
    "get_posterior_mean(obs, expert_guess, vagueness)"
   ]
  },
  {
   "cell_type": "code",
   "execution_count": 125,
   "metadata": {},
   "outputs": [
    {
     "name": "stderr",
     "output_type": "stream",
     "text": [
      "Sampling 2 chains for 1_000 tune and 1_000 draw iterations (2_000 + 2_000 draws total) took 2 seconds.\n",
      "We recommend running at least 4 chains for robust computation of convergence diagnostics\n"
     ]
    }
   ],
   "source": [
    "for idx, task in enumerate(d):\n",
    "    posterior = get_posterior_mean(\n",
    "        task[\"prev_durations\"], \n",
    "        task[\"guess\"], \n",
    "        task[\"vagueness\"])\n",
    "    d[idx][\"posterior\"] = posterior"
   ]
  },
  {
   "cell_type": "code",
   "execution_count": 162,
   "metadata": {},
   "outputs": [],
   "source": [
    "durations = []\n",
    "critial_paths = []\n",
    "\n",
    "for it in range(1000):\n",
    "    p = Node('project')\n",
    "\n",
    "    for node in d:\n",
    "        p.add(Node(node['activity'], duration=node['posterior'][it]))\n",
    "\n",
    "    for node in d:\n",
    "        if node['predecessors'] != []:\n",
    "            for predecessor in node['predecessors']:\n",
    "                p.link(predecessor, node['activity'])\n",
    "\n",
    "    p.update_all()\n",
    "\n",
    "    durations.append(p.duration)\n",
    "    critial_paths.append([str(j) for j in p.get_critical_path()])"
   ]
  },
  {
   "cell_type": "code",
   "execution_count": null,
   "metadata": {},
   "outputs": [],
   "source": [
    "fig, ax = plt.subplots(1, 1, figsize=(10, 5))\n",
    "plt.hist(durations, bins=50)\n",
    "plt.xlabel('Duration')\n",
    "plt.ylabel('Count')\n",
    "plt.title('Duration of Project')\n",
    "plt.grid()"
   ]
  },
  {
   "cell_type": "code",
   "execution_count": 169,
   "metadata": {},
   "outputs": [
    {
     "data": {
      "text/plain": [
       "Text(0.5, 1.0, 'Critical Path Histogram')"
      ]
     },
     "execution_count": 169,
     "metadata": {},
     "output_type": "execute_result"
    },
    {
     "data": {
      "image/png": "[encoded data removed]",
      "text/plain": [
       "<Figure size 1000x500 with 1 Axes>"
      ]
     },
     "metadata": {},
     "output_type": "display_data"
    }
   ],
   "source": [
    "fig, ax = plt.subplots(figsize=(10, 5))\n",
    "x, y = np.unique(critial_paths, return_counts=True)\n",
    "plt.bar(x, y)\n",
    "plt.xlabel('Activity')\n",
    "plt.ylabel('# of times on critical path')\n",
    "plt.title('Critical Path Histogram')"
   ]
  }
 ],
 "metadata": {
  "kernelspec": {
   "display_name": "Python 3",
   "language": "python",
   "name": "python3"
  },
  "language_info": {
   "codemirror_mode": {
    "name": "ipython",
    "version": 3
   },
   "file_extension": ".py",
   "mimetype": "text/x-python",
   "name": "python",
   "nbconvert_exporter": "python",
   "pygments_lexer": "ipython3",
   "version": "3.11.4"
  },
  "orig_nbformat": 4
 },
 "nbformat": 4,
 "nbformat_minor": 2
}
